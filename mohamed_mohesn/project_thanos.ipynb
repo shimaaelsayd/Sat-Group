{
 "cells": [
  {
   "cell_type": "code",
   "execution_count": 1,
   "metadata": {},
   "outputs": [],
   "source": [
    "import os\n",
    "import random\n",
    "import time"
   ]
  },
  {
   "cell_type": "code",
   "execution_count": 3,
   "metadata": {},
   "outputs": [],
   "source": [
    "def show_universe_people(place):\n",
    "    people = os.listdir(place)\n",
    "    return people"
   ]
  },
  {
   "cell_type": "code",
   "execution_count": 5,
   "metadata": {},
   "outputs": [
    {
     "name": "stdout",
     "output_type": "stream",
     "text": [
      "['backup/cover045.png', 'backup/cover043.png', 'backup/cover006.png', 'backup/cover019.png', 'backup/cover046.png', 'backup/cover028.png', 'backup/cover024.png', 'backup/cover013.png', 'backup/cover001.png', 'backup/cover020.png', 'backup/cover022.png', 'backup/cover041.png', 'backup/cover012.png', 'backup/cover025.png', 'backup/cover005.png', 'backup/cover015.png', 'backup/cover040.png', 'backup/cover034.png', 'backup/cover048.png', 'backup/cover004.png', 'backup/cover044.png', 'backup/cover033.png', 'backup/cover031.png', 'backup/cover017.png', 'backup/cover011.png']\n"
     ]
    },
    {
     "data": {
      "text/plain": [
       "[None,\n",
       " None,\n",
       " None,\n",
       " None,\n",
       " None,\n",
       " None,\n",
       " None,\n",
       " None,\n",
       " None,\n",
       " None,\n",
       " None,\n",
       " None,\n",
       " None,\n",
       " None,\n",
       " None,\n",
       " None,\n",
       " None,\n",
       " None,\n",
       " None,\n",
       " None,\n",
       " None,\n",
       " None,\n",
       " None,\n",
       " None,\n",
       " None]"
      ]
     },
     "execution_count": 5,
     "metadata": {},
     "output_type": "execute_result"
    }
   ],
   "source": [
    "import random\n",
    "l=random.sample(show_universe_people('backup'), len(show_universe_people('backup'))//2)\n",
    "l=list(map(lambda x: f'backup/{x}', l))\n",
    "print(l)\n",
    "list(map(os.remove, l))"
   ]
  },
  {
   "cell_type": "code",
   "execution_count": null,
   "metadata": {},
   "outputs": [],
   "source": []
  }
 ],
 "metadata": {
  "kernelspec": {
   "display_name": "Python 3",
   "language": "python",
   "name": "python3"
  },
  "language_info": {
   "codemirror_mode": {
    "name": "ipython",
    "version": 3
   },
   "file_extension": ".py",
   "mimetype": "text/x-python",
   "name": "python",
   "nbconvert_exporter": "python",
   "pygments_lexer": "ipython3",
   "version": "3.8.5"
  }
 },
 "nbformat": 4,
 "nbformat_minor": 4
}
